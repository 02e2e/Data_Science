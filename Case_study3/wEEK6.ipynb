{
 "cells": [
  {
   "cell_type": "markdown",
   "id": "08513a8d",
   "metadata": {},
   "source": []
  },
  {
   "cell_type": "code",
   "execution_count": null,
   "id": "7228b069",
   "metadata": {},
   "outputs": [],
   "source": [
    "# Notes Live Lecture \n",
    "# Bayes like logistic regression\n",
    "# different way to think about it, frequintist vs bayesian\n",
    "# bayesian is more about the probability of the data given the model\n",
    "# Probability of A given B \n",
    "# P(A|B) = P(B|A) * P(A) / P(B)\n",
    "# set of beliefs\n",
    "# data based belief system \n",
    "# prior - prior beliefs and noramilzie it update my beliefs\n",
    "# posterior - updated beliefs\n",
    "# helps when we have unbalanced classes \n",
    "# true positive rate and true negative rate \n",
    "# helpful for unbalanced populations \n",
    "\n",
    "# naive - assume b and c are independent\n",
    "# P(A|B,C) = P(B|A) * P(C|A) * P(A) / P(B) * P(C)\n",
    "# independent assumption is a big assumption \n",
    "\n",
    "# when in binary - two classes, divide by the same probabilities take the ratios and we get the scores \n",
    "# log odds ratio\n",
    "# logit function\n",
    "# sigmoid function\n",
    "# Gaussian Naive Bayes - assumes the data is normally distributed\n",
    "# Naive Bayes similar to logistic regression, naive is faster, logistic is slower more accurate \n",
    "# logit - similar to odds ratio, is greater than 0 where log1 = 0 - cant take the log of a negative log \n",
    "\n",
    "# geneartive discriniminative pair, generating on the fly, logistic regression - same thing \n",
    "# generator / iterator - two sides of the same coin \n",
    "\n",
    "# "
   ]
  },
  {
   "cell_type": "code",
   "execution_count": 2,
   "id": "7542b4a3-fd21-45fe-bc32-9ef6084c1eba",
   "metadata": {},
   "outputs": [],
   "source": [
    "import os"
   ]
  },
  {
   "cell_type": "code",
   "execution_count": 3,
   "id": "0922b5f1-3c7e-45cc-96d4-04c4e278ffec",
   "metadata": {},
   "outputs": [
    {
     "data": {
      "text/plain": [
       "['02_module',\n",
       " 'ds-7333_syllabus.pdf',\n",
       " '.DS_Store',\n",
       " 'ElementStatisticalLearning.pdf',\n",
       " '00_Case_Studies',\n",
       " 'Screenshot 2024-05-07 at 7.13.40\\u202fPM.png',\n",
       " '04_module',\n",
       " 'Data_Science',\n",
       " 'sweetviz_report.html',\n",
       " '06_module',\n",
       " 'Screenshot 2024-04-26 at 11.34.21\\u202fPM.png',\n",
       " '03_module',\n",
       " '01_module',\n",
       " '05_module',\n",
       " 'df_new_info.csv',\n",
       " '07_module']"
      ]
     },
     "execution_count": 3,
     "metadata": {},
     "output_type": "execute_result"
    }
   ],
   "source": [
    "os.listdir(\".\")"
   ]
  },
  {
   "cell_type": "code",
   "execution_count": null,
   "id": "085c3909-051d-412f-aed8-6312c2cff488",
   "metadata": {},
   "outputs": [],
   "source": [
    "# Get our list of targets using OS WALK \n",
    "\n",
    "from collections import Counter\n",
    "types = Counter()\n",
    "targets=[]\n",
    "text=[]\n",
    "for root,dirs,files in os.walk(\".\"):\n",
    "    for file in files:\n",
    "        if \"ipynb\" in file:\n",
    "            pass\n",
    "        else:\n",
    "            with open(os.path.join(root,file), \"r\",encoding='latin-1') as f:\n",
    "                try:\n",
    "                    tmp = email.message_from_file(f)\n",
    "                    type_ = tmp.get_content_type()\n",
    "                    if type_== 'text/html':\n",
    "                        print(\"Need to parse HTML\")\n",
    "                    types[type_]+=1\n",
    "                    tmp = tmp.get_payload().replace(\"\\n\",\" \")\n",
    "                except:\n",
    "                    pass\n",
    "                    tmp = \"DERP\"\n",
    "                text.append(tmp)\n",
    "            if \"spam\" in root:\n",
    "                targets.append(1)\n",
    "            else:\n",
    "                targets.append(0)\n"
   ]
  },
  {
   "cell_type": "code",
   "execution_count": 37,
   "id": "ca22d6ef-bb42-415f-ba6f-caefdec18e7a",
   "metadata": {},
   "outputs": [
    {
     "data": {
      "text/plain": [
       "Counter({'text/plain': 6842,\n",
       "         'text/html': 1075,\n",
       "         'multipart/alternative': 288,\n",
       "         'multipart/signed': 180,\n",
       "         'multipart/mixed': 162,\n",
       "         'multipart/related': 46,\n",
       "         'multipart/report': 5,\n",
       "         'text/plain charset=us-ascii': 1})"
      ]
     },
     "execution_count": 37,
     "metadata": {},
     "output_type": "execute_result"
    }
   ],
   "source": [
    "types"
   ]
  },
  {
   "cell_type": "code",
   "execution_count": 49,
   "id": "e6564746-6a04-412e-93e3-844b337a3298",
   "metadata": {},
   "outputs": [],
   "source": [
    "for root,dirs,files in os.walk(\".\"):\n",
    "    for file in files:\n",
    "        if \"ipynb\" in file:\n",
    "            pass\n",
    "        else:\n",
    "            with open(os.path.join(root,file), \"r\",encoding='latin-1') as f:\n",
    "                try:\n",
    "                    tmp = email.message_from_file(f)\n",
    "                    type_ = tmp.get_content_type()\n",
    "                    if \"multipart\" in type_:\n",
    "                        break\n",
    "                except:\n",
    "                    pass"
   ]
  },
  {
   "cell_type": "code",
   "execution_count": 61,
   "id": "002752cf-2402-4e65-a17a-5ad37fef42aa",
   "metadata": {},
   "outputs": [],
   "source": [
    "from sklearn.feature_extraction.text import CountVectorizer\n",
    "cv = CountVectorizer()\n",
    "out=cv.fit_transform(text)"
   ]
  },
  {
   "cell_type": "code",
   "execution_count": 65,
   "id": "b36e611b-f1f2-483a-8f39-fd5bac36b040",
   "metadata": {},
   "outputs": [],
   "source": [
    "import numpy as np\n",
    "x=np.array(out[0])"
   ]
  },
  {
   "cell_type": "code",
   "execution_count": 66,
   "id": "d7b16222-52f0-43df-9e49-91bd8802eb53",
   "metadata": {},
   "outputs": [
    {
     "data": {
      "text/plain": [
       "array(<1x89900 sparse matrix of type '<class 'numpy.int64'>'\n",
       "\twith 147 stored elements in Compressed Sparse Row format>, dtype=object)"
      ]
     },
     "execution_count": 66,
     "metadata": {},
     "output_type": "execute_result"
    }
   ],
   "source": [
    "x"
   ]
  },
  {
   "cell_type": "code",
   "execution_count": 54,
   "id": "f8261fa1-ee22-4ebd-9f77-bbb4f86680ca",
   "metadata": {},
   "outputs": [
    {
     "name": "stdout",
     "output_type": "stream",
     "text": [
      "text/plain\n",
      "\n",
      "DEAR SIR=2C\n",
      "URGENT AND CONFIDENTIAL=3A\n",
      "\n",
      "Re=3ATransfer of $50=2C000=2E000=2E00 USD=5BFIFTY MILLION UNITED\n",
      "STATES DOLLARS=5D=2E\n",
      "\n",
      "WE WANT TO TRANSFER TO OVERSEAS=5B$50=2C000=2E000=2E00=5BFIFTY\n",
      "MILLION UNITED STATES DOLLARS=5DFROM A SECURITY COMPANY\n",
      "IN SPAIN=2CI WANT TO ASK YOU TO QUIETLY LOOK FOR A\n",
      "RELIABLE AND HONEST PERSON WHO WILL BE CAPABLE AND FIT\n",
      "TO PROVIDE EITHER AN EXISTING BANK ACCOUNT OR TO SET\n",
      "UP A NEW BANK ACCOUNT IMMEDIATELY TO RECEIVE THIS\n",
      "MONEY=2CEVEN AN EMPTY ACCOUNT CAN SERVE TO RECEIVE THIS\n",
      "MONEY=2CAS LONG AS YOU WILL REMAIN HONEST TO ME TILL THE\n",
      "END OF THIS IMPORTANT BUSINESS TRANSACTION=2EI WANT TO\n",
      "BELIEVE THAT YOU WILL NEVER LET ME DOWN EITHER NOW OR\n",
      "IN FUTURE=2E\n",
      "\n",
      "I AM DOUGLAS SMITH=2CTHE AUDITOR GENERAL OF MAGNUM TRUST\n",
      "INC=2E MADRID SPAIN DURING THE COURSE OF OUR AUDITING=2CI DISCOVERED A\n",
      "FLOATING FUND IN AN ACCOUNT OPENED IN THE SECURITY\n",
      "COMPANY IN 1990 AND SINCE 1993 NOBODY HAS OPERATED ON\n",
      "THIS ACCOUNT AGAIN=2C AFTER GOING THROUGH SOME OLD FILES\n",
      "IN THE RECORDS I DISCOVERED THAT THE OWNER OF THE\n",
      "ACCOUNT DIED WITHOUT A HEIR HENCE THE MONEY IS\n",
      "FLOATING AND IF I DO NOT REMIT THIS MONEY OUT\n",
      "URGENTLY=2CIT WILL BE FORFEITED FOR NOTHING=2E\n",
      "\n",
      "THE OWNER OF THIS ACCOUNT WAS =22MR=2EALLAN P=2E SEAMAN=22=2CA FOREIGNER AND AN INDUSTRIALIST=2CAND HE DIED SINCE 1993 AND NO OTHER PERSON KNOWS ABOUT THIS ACCOUNT OR ANYTHING CONCERNING IT=2CTHE ACCOUNT HAS NO BENEFICIARY AND MY INVESTIGATION PROVED TO ME AS WELL THAT ALLAN=2EP SEAMAN UNTILL HIS DEATH WAS THE MANAGER DIAMOND SAFARI=5BPTY=5DS=2EA=2E\n",
      "\n",
      "WE WILL START THE FIRST TRANSFER WITH $20 MILLION\n",
      "DOLLARS=5BTWENTY MILLION DOLLARS=5DUPON SUCCESSFUL\n",
      "TRANSFER WITHOUT ANY DISAPPOINTMENT FROM YOUR SIDE=2CWE\n",
      "SHALL RE-APPLY FOR THE TRANSFER OF THE REMAINING $30\n",
      "MILLION USA DOLLARS=5BTHIRTY MILLION UNITED STATES\n",
      "DOLLARS=5DINTO YOUR ACCOUNT BRINGING THE SUM TOTAL TO\n",
      "$50=2C000=2E000=2E00=5BFIFTY MILLION DOLLARS=5D=2E\n",
      "\n",
      "I AM CONTACTING YOU AS A FOREIGNER BECAUSE THIS MONEY\n",
      "CAN ONLY BE APPROVED TO A FOREIGNER WITH VALID\n",
      "INTERNATIONAL PASSPORT=2CDRIVERS LICENCE AND FOREIGN\n",
      "ACCOUNT BECAUSE THE MONEY IS IN USA DOLLARS AND THE\n",
      "FORMER OWNER OF THE ACCOUNT=22MR=2EALLAN P=2ESEAMAN IS A\n",
      "FOREIGNER=2EI WILL LIKE US TO MEET FACE TO FACE TO SIGN\n",
      "A BINDING AGREEMENT THAT WILL BIND US TOGETHER IN THE\n",
      "BUSINESS=2CI AM REVEALING ALL THESE TO YOU WITH THE\n",
      "BELIEF THAT YOU WILL NEVER LET ME DOWN IN THIS\n",
      "BUSINESS=2CYOU ARE THE FIRST AND ONLY PERSON I AM\n",
      "CONTACTING FOR THE BUSINESS=2CSO PLEASE REPLY URGENTLY\n",
      "FOR ME TO TELL YOU THE NEXT STEP TO TAKE=2EYOU SHOULD\n",
      "FORWARD YOUR TELEPHONE AND FAX NUMBERS AND YOUR BANK\n",
      "ACCOUNT DETAILS THAT WILL BE USED IN TRANSFERING THE\n",
      "MONEY=2E\n",
      "\n",
      "YOU WILL HAVE TO GIVE ME THE ASSURANCE WHEN WE\n",
      "MEET THAT THIS MONEY WILL BE INTACT PENDING OUR\n",
      "PHYSICAL ARRIVAL IN YOUR COUNTRY FOR SHARING AND\n",
      "DISBURSEMENT OF THE FUND WHICH WILL BE 35% FOR YOUR\n",
      "ASSISTANCE=2C60% WILL BE FOR US WHILE 5% WILL  BE SET\n",
      "ASIDE TO TAKE CARE OF ALL THE EXPENSES THAT WILL BE\n",
      "INCURRED BY BOTH PARTIES DURING THE COURSE OF THE\n",
      "TRANSFER=2E\n",
      "\n",
      "I LOOK FORWARD TO YOUR EARLIEST RESPONSE=2CALL\n",
      "CORRESPONDENCE FOR NOW SHOULD BE EMAIL FOR SECURITY\n",
      "REASONS=2E\n",
      "\n",
      "BEST REGARDS=2E\n",
      "\n",
      "DOUGLAS SMITH  =28PLEASE  CONTACT ME THROUGH  MY WIFE EMAIL=28princessmar001=40yahoo=2Ecom=29FOR CONFIDENCAIL\n",
      "\n",
      "\n",
      "\n",
      "application/octet-stream\n",
      "text/plain\n",
      "\n",
      "\n",
      "-------------------------------------------------------\n",
      "This sf.net email is sponsored by:ThinkGeek\n",
      "Welcome to geek heaven.\n",
      "http://thinkgeek.com/sf\n",
      "_______________________________________________\n",
      "Spamassassin-Sightings mailing list\n",
      "Spamassassin-Sightings@lists.sourceforge.net\n",
      "https://lists.sourceforge.net/lists/listinfo/spamassassin-sightings\n",
      "\n"
     ]
    }
   ],
   "source": [
    "for i in tmp.get_payload():\n",
    "    print(i.get_content_type())\n",
    "    if i.get_content_type() == \"text/plain\":\n",
    "        print(i.get_payload())"
   ]
  },
  {
   "cell_type": "code",
   "execution_count": null,
   "id": "b731811e",
   "metadata": {},
   "outputs": [],
   "source": []
  },
  {
   "cell_type": "code",
   "execution_count": 44,
   "id": "0494fc76-802e-48e2-ada9-9a2b3acede23",
   "metadata": {},
   "outputs": [],
   "source": [
    "def factorial(N):\n",
    "    total = N\n",
    "    if N == 1:\n",
    "        return total\n",
    "    else: \n",
    "        return total * factorial(N-1) \n",
    "    \n",
    "# keep returning this unless we hit the base case of 1\n",
    "# recursion - function calling itself \n",
    "# keep track of the running total\n",
    "# base case - when we stop calling the function\n",
    "# recursive case - keep calling the function\n",
    "# the idea here is keep going till you reach a breakpoint, your breakpoint when you find teh text body\n",
    "# this an indeterminnet length, so recursion is useful in json and how to get down to the end, here we have break to find this condition - a number of ways to do it. break a loop is to return a value to break the loop. \n",
    "\n"
   ]
  },
  {
   "cell_type": "code",
   "execution_count": 46,
   "id": "df913941-10b3-4a0b-a1f0-661f7a552d12",
   "metadata": {},
   "outputs": [
    {
     "data": {
      "text/plain": [
       "120"
      ]
     },
     "execution_count": 46,
     "metadata": {},
     "output_type": "execute_result"
    }
   ],
   "source": [
    "factorial(5)"
   ]
  },
  {
   "cell_type": "code",
   "execution_count": 47,
   "id": "819016e8-7fd7-457f-95e8-49a3faea1e04",
   "metadata": {},
   "outputs": [
    {
     "name": "stdout",
     "output_type": "stream",
     "text": [
      "0\n",
      "1\n",
      "2\n",
      "3\n",
      "4\n",
      "5\n"
     ]
    }
   ],
   "source": [
    "for i in range(100000000):\n",
    "    print(i)\n",
    "    if i==5:\n",
    "        break"
   ]
  },
  {
   "cell_type": "code",
   "execution_count": 56,
   "id": "77193849-bdf2-4683-99bb-9cc343bff99f",
   "metadata": {},
   "outputs": [],
   "source": [
    "with open(\"./easy_ham/0001.ea7e79d3153e7469e7a9c3e0af6a357e\",\"r\") as f:\n",
    "    tmp=f.read()"
   ]
  },
  {
   "cell_type": "code",
   "execution_count": 57,
   "id": "b54636a8-1d06-47bd-8ffb-498d17b0ea6e",
   "metadata": {},
   "outputs": [
    {
     "data": {
      "text/plain": [
       "'From exmh-workers-admin@redhat.com  Thu Aug 22 12:36:23 2002\\nReturn-Path: <exmh-workers-admin@example.com>\\nDelivered-To: zzzz@localhost.netnoteinc.com\\nReceived: from localhost (localhost [127.0.0.1])\\n\\tby phobos.labs.netnoteinc.com (Postfix) with ESMTP id D03E543C36\\n\\tfor <zzzz@localhost>; Thu, 22 Aug 2002 07:36:16 -0400 (EDT)\\nReceived: from phobos [127.0.0.1]\\n\\tby localhost with IMAP (fetchmail-5.9.0)\\n\\tfor zzzz@localhost (single-drop); Thu, 22 Aug 2002 12:36:16 +0100 (IST)\\nReceived: from listman.example.com (listman.example.com [66.187.233.211]) by\\n    dogma.slashnull.org (8.11.6/8.11.6) with ESMTP id g7MBYrZ04811 for\\n    <zzzz-exmh@example.com>; Thu, 22 Aug 2002 12:34:53 +0100\\nReceived: from listman.example.com (localhost.localdomain [127.0.0.1]) by\\n    listman.redhat.com (Postfix) with ESMTP id 8386540858; Thu, 22 Aug 2002\\n    07:35:02 -0400 (EDT)\\nDelivered-To: exmh-workers@listman.example.com\\nReceived: from int-mx1.corp.example.com (int-mx1.corp.example.com\\n    [172.16.52.254]) by listman.redhat.com (Postfix) with ESMTP id 10CF8406D7\\n    for <exmh-workers@listman.redhat.com>; Thu, 22 Aug 2002 07:34:10 -0400\\n    (EDT)\\nReceived: (from mail@localhost) by int-mx1.corp.example.com (8.11.6/8.11.6)\\n    id g7MBY7g11259 for exmh-workers@listman.redhat.com; Thu, 22 Aug 2002\\n    07:34:07 -0400\\nReceived: from mx1.example.com (mx1.example.com [172.16.48.31]) by\\n    int-mx1.corp.redhat.com (8.11.6/8.11.6) with SMTP id g7MBY7Y11255 for\\n    <exmh-workers@redhat.com>; Thu, 22 Aug 2002 07:34:07 -0400\\nReceived: from ratree.psu.ac.th ([202.28.97.6]) by mx1.example.com\\n    (8.11.6/8.11.6) with SMTP id g7MBIhl25223 for <exmh-workers@redhat.com>;\\n    Thu, 22 Aug 2002 07:18:55 -0400\\nReceived: from delta.cs.mu.OZ.AU (delta.coe.psu.ac.th [172.30.0.98]) by\\n    ratree.psu.ac.th (8.11.6/8.11.6) with ESMTP id g7MBWel29762;\\n    Thu, 22 Aug 2002 18:32:40 +0700 (ICT)\\nReceived: from munnari.OZ.AU (localhost [127.0.0.1]) by delta.cs.mu.OZ.AU\\n    (8.11.6/8.11.6) with ESMTP id g7MBQPW13260; Thu, 22 Aug 2002 18:26:25\\n    +0700 (ICT)\\nFrom: Robert Elz <kre@munnari.OZ.AU>\\nTo: Chris Garrigues <cwg-dated-1030377287.06fa6d@DeepEddy.Com>\\nCc: exmh-workers@example.com\\nSubject: Re: New Sequences Window\\nIn-Reply-To: <1029945287.4797.TMDA@deepeddy.vircio.com>\\nReferences: <1029945287.4797.TMDA@deepeddy.vircio.com>\\n    <1029882468.3116.TMDA@deepeddy.vircio.com> <9627.1029933001@munnari.OZ.AU>\\n    <1029943066.26919.TMDA@deepeddy.vircio.com>\\n    <1029944441.398.TMDA@deepeddy.vircio.com>\\nMIME-Version: 1.0\\nContent-Type: text/plain; charset=us-ascii\\nMessage-Id: <13258.1030015585@munnari.OZ.AU>\\nX-Loop: exmh-workers@example.com\\nSender: exmh-workers-admin@example.com\\nErrors-To: exmh-workers-admin@example.com\\nX-Beenthere: exmh-workers@example.com\\nX-Mailman-Version: 2.0.1\\nPrecedence: bulk\\nList-Help: <mailto:exmh-workers-request@example.com?subject=help>\\nList-Post: <mailto:exmh-workers@example.com>\\nList-Subscribe: <https://listman.example.com/mailman/listinfo/exmh-workers>,\\n    <mailto:exmh-workers-request@redhat.com?subject=subscribe>\\nList-Id: Discussion list for EXMH developers <exmh-workers.example.com>\\nList-Unsubscribe: <https://listman.example.com/mailman/listinfo/exmh-workers>,\\n    <mailto:exmh-workers-request@redhat.com?subject=unsubscribe>\\nList-Archive: <https://listman.example.com/mailman/private/exmh-workers/>\\nDate: Thu, 22 Aug 2002 18:26:25 +0700\\n\\n    Date:        Wed, 21 Aug 2002 10:54:46 -0500\\n    From:        Chris Garrigues <cwg-dated-1030377287.06fa6d@DeepEddy.Com>\\n    Message-ID:  <1029945287.4797.TMDA@deepeddy.vircio.com>\\n\\n\\n  | I can\\'t reproduce this error.\\n\\nFor me it is very repeatable... (like every time, without fail).\\n\\nThis is the debug log of the pick happening ...\\n\\n18:19:03 Pick_It {exec pick +inbox -list -lbrace -lbrace -subject ftp -rbrace -rbrace} {4852-4852 -sequence mercury}\\n18:19:03 exec pick +inbox -list -lbrace -lbrace -subject ftp -rbrace -rbrace 4852-4852 -sequence mercury\\n18:19:04 Ftoc_PickMsgs {{1 hit}}\\n18:19:04 Marking 1 hits\\n18:19:04 tkerror: syntax error in expression \"int ...\\n\\nNote, if I run the pick command by hand ...\\n\\ndelta$ pick +inbox -list -lbrace -lbrace -subject ftp -rbrace -rbrace  4852-4852 -sequence mercury\\n1 hit\\n\\nThat\\'s where the \"1 hit\" comes from (obviously).  The version of nmh I\\'m\\nusing is ...\\n\\ndelta$ pick -version\\npick -- nmh-1.0.4 [compiled on fuchsia.cs.mu.OZ.AU at Sun Mar 17 14:55:56 ICT 2002]\\n\\nAnd the relevant part of my .mh_profile ...\\n\\ndelta$ mhparam pick\\n-seq sel -list\\n\\n\\nSince the pick command works, the sequence (actually, both of them, the\\none that\\'s explicit on the command line, from the search popup, and the\\none that comes from .mh_profile) do get created.\\n\\nkre\\n\\nps: this is still using the version of the code form a day ago, I haven\\'t\\nbeen able to reach the cvs repository today (local routing issue I think).\\n\\n\\n\\n_______________________________________________\\nExmh-workers mailing list\\nExmh-workers@redhat.com\\nhttps://listman.redhat.com/mailman/listinfo/exmh-workers\\n\\n'"
      ]
     },
     "execution_count": 57,
     "metadata": {},
     "output_type": "execute_result"
    }
   ],
   "source": [
    "tmp"
   ]
  },
  {
   "cell_type": "code",
   "execution_count": null,
   "id": "dda20bbe-f486-4d5d-8e05-0de69c6d963e",
   "metadata": {},
   "outputs": [],
   "source": []
  }
 ],
 "metadata": {
  "kernelspec": {
   "display_name": "Python 3 (ipykernel)",
   "language": "python",
   "name": "python3"
  }
 },
 "nbformat": 4,
 "nbformat_minor": 5
}
